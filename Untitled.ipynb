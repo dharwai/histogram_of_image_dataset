{
 "cells": [
  {
   "cell_type": "code",
   "execution_count": 6,
   "id": "19cf3712",
   "metadata": {},
   "outputs": [],
   "source": [
    "import matplotlib.pyplot as plt\n",
    "import numpy as np\n",
    "import pandas as pd\n",
    "import seaborn as sns\n",
    "import os\n",
    "import tensorflow\n",
    "# Importing Deep Learning Libraries\n",
    "\n",
    "from tensorflow.keras.preprocessing.image import load_img, img_to_array\n",
    "from tensorflow.keras.preprocessing.image import ImageDataGenerator\n",
    "from tensorflow.keras.layers import Dense,Input,Dropout,GlobalAveragePooling2D,Flatten,Conv2D,BatchNormalization,Activation,MaxPooling2D\n",
    "from tensorflow.keras.models import Model,Sequential\n",
    "from tensorflow.keras.optimizers import Adam,SGD,RMSprop"
   ]
  },
  {
   "cell_type": "code",
   "execution_count": 7,
   "id": "d43ae0ee",
   "metadata": {},
   "outputs": [],
   "source": [
    "picture_size = 48\n",
    "folder_path = \"C:/Users/RAJESH KUMAR/Desktop/images/\""
   ]
  },
  {
   "cell_type": "code",
   "execution_count": 8,
   "id": "82374ad7",
   "metadata": {},
   "outputs": [
    {
     "data": {
      "text/plain": [
       "35887"
      ]
     },
     "execution_count": 8,
     "metadata": {},
     "output_type": "execute_result"
    }
   ],
   "source": [
    "import os\n",
    "source1 = os.listdir(\"C:/Users/RAJESH KUMAR/Desktop/images/test/happy\")\n",
    "source2 = os.listdir(\"C:/Users/RAJESH KUMAR/Desktop/images//test/sad\")\n",
    "source3 = os.listdir(\"C:/Users/RAJESH KUMAR/Desktop/images//test/angry\")\n",
    "source4 = os.listdir(\"C:/Users/RAJESH KUMAR/Desktop/images//test/disgust\")\n",
    "source5 = os.listdir(\"C:/Users/RAJESH KUMAR/Desktop/images//test/neutral\")\n",
    "source6 = os.listdir(\"C:/Users/RAJESH KUMAR/Desktop/images//test/fear\")\n",
    "source7 = os.listdir(\"C:/Users/RAJESH KUMAR/Desktop/images//test/surprise\")\n",
    "train_len = len(source1)+len(source2)+len(source3)+len(source4)+len(source5)+len(source6)+len(source7)\n",
    "train_len"
   ]
  },
  {
   "cell_type": "code",
   "execution_count": 11,
   "id": "43aa0787",
   "metadata": {},
   "outputs": [
    {
     "data": {
      "text/plain": [
       "Text(0.5, 1.0, 'Class Distribution')"
      ]
     },
     "execution_count": 11,
     "metadata": {},
     "output_type": "execute_result"
    },
    {
     "data": {
      "image/png": "[encoded data removed]",
      "text/plain": [
       "<Figure size 432x288 with 1 Axes>"
      ]
     },
     "metadata": {
      "needs_background": "light"
     },
     "output_type": "display_data"
    }
   ],
   "source": [
    "h = [len(source1),len(source2),len(source3),len(source4),len(source5),len(source6),len(source7)]\n",
    "c = ['red', 'yellow', 'black', 'blue', 'orange','green',\"pink\"]\n",
    "x = [\"happy\",\"sad\",\"angry\",\"disgust\",\"neutral\",\"fear\",\"surprise\"]\n",
    "c = plt.bar(x, height = h, color = c)\n",
    "plt.ylabel('Number')\n",
    "plt.xlabel('Emotions')\n",
    "plt.title(\"Class Distribution\")"
   ]
  },
  {
   "cell_type": "code",
   "execution_count": null,
   "id": "0240e092",
   "metadata": {},
   "outputs": [],
   "source": []
  }
 ],
 "metadata": {
  "kernelspec": {
   "display_name": "Python 3 (ipykernel)",
   "language": "python",
   "name": "python3"
  },
  "language_info": {
   "codemirror_mode": {
    "name": "ipython",
    "version": 3
   },
   "file_extension": ".py",
   "mimetype": "text/x-python",
   "name": "python",
   "nbconvert_exporter": "python",
   "pygments_lexer": "ipython3",
   "version": "3.9.7"
  }
 },
 "nbformat": 4,
 "nbformat_minor": 5
}
