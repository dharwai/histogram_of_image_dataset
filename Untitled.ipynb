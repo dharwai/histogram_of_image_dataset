{
 "cells": [
  {
   "cell_type": "code",
   "execution_count": 4,
   "id": "3d9505b3",
   "metadata": {},
   "outputs": [],
   "source": [
    "import time\n",
    "import webbrowser\n",
    "with open(\"a.txt\") as f:\n",
    "    for url in f:\n",
    "        webbrowser.open_new_tab(url)\n",
    "        time.sleep(3)\n"
   ]
  },
  {
   "cell_type": "code",
   "execution_count": null,
   "id": "aec237d0",
   "metadata": {},
   "outputs": [],
   "source": []
  }
 ],
 "metadata": {
  "kernelspec": {
   "display_name": "base",
   "language": "python",
   "name": "python3"
  },
  "language_info": {
   "codemirror_mode": {
    "name": "ipython",
    "version": 3
   },
   "file_extension": ".py",
   "mimetype": "text/x-python",
   "name": "python",
   "nbconvert_exporter": "python",
   "pygments_lexer": "ipython3",
   "version": "3.9.7"
  },
  "vscode": {
   "interpreter": {
    "hash": "1c8c047f826c1ab273e934b31e69d75c40c19c33456f239d60d7612cacb666c7"
   }
  }
 },
 "nbformat": 4,
 "nbformat_minor": 5
}
