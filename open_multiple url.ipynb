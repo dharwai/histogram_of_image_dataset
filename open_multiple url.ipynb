{
 "cells": [
  {
   "cell_type": "code",
   "execution_count": 1,
   "id": "a12bf81e",
   "metadata": {},
   "outputs": [],
   "source": []
  },
  {
   "cell_type": "markdown",
   "id": "00b7195e",
   "metadata": {},
   "source": [
    "# open multiple url (sleep time in seconds you can change)"
   ]
  },
  {
   "cell_type": "code",
   "execution_count": null,
   "id": "ef082f06",
   "metadata": {},
   "outputs": [],
   "source": [
    "import time\n",
    "import webbrowser\n",
    "with open(\"b.txt\") as f:\n",
    "    for url in f:\n",
    "        webbrowser.open_new_tab(url)\n",
    "        time.sleep(6)"
   ]
  },
  {
   "cell_type": "markdown",
   "id": "1f0884a3",
   "metadata": {},
   "source": []
  },
  {
   "cell_type": "markdown",
   "id": "a2a0bac0",
   "metadata": {},
   "source": [
    "# # Open in particular browser below code"
   ]
  },
  {
   "cell_type": "code",
   "execution_count": null,
   "id": "8d33bef7",
   "metadata": {},
   "outputs": [],
   "source": [
    "import time\n",
    "import webbrowser\n",
    "with open(\"b.txt\") as f:\n",
    "    for url in f:\n",
    "        #webbrowser.register('chrome', None, webbrowser.BackgroundBrowser(\"C:/Program Files/Google/Chrome/Application.chrome.exe\"))\n",
    "        #webbrowser.register('opera', None, webbrowser.BackgroundBrowser(\"C:/Users/Rajesh Kumar/AppData/Local/Programs/Opera\"))\n",
    "        webbrowser.register('msedge', None, webbrowser.BackgroundBrowser(\"C:/Program Files (x86)/Microsoft/Edge/Application.msedge.exe\"))\n",
    "        webbrowser.get(\"msedge\").open_new_tab(url)\n",
    "        time.sleep(3)"
   ]
  },
  {
   "cell_type": "code",
   "execution_count": null,
   "id": "36bb8c02",
   "metadata": {},
   "outputs": [],
   "source": []
  }
 ],
 "metadata": {
  "kernelspec": {
   "display_name": "Python 3 (ipykernel)",
   "language": "python",
   "name": "python3"
  },
  "language_info": {
   "codemirror_mode": {
    "name": "ipython",
    "version": 3
   },
   "file_extension": ".py",
   "mimetype": "text/x-python",
   "name": "python",
   "nbconvert_exporter": "python",
   "pygments_lexer": "ipython3",
   "version": "3.9.13"
  }
 },
 "nbformat": 4,
 "nbformat_minor": 5
}
