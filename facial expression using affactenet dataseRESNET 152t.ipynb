{
  "nbformat": 4,
  "nbformat_minor": 0,
  "metadata": {
    "colab": {
      "provenance": [],
      "include_colab_link": true
    },
    "kernelspec": {
      "name": "python3",
      "display_name": "Python 3"
    },
    "language_info": {
      "name": "python"
    },
    "accelerator": "GPU",
    "gpuClass": "standard"
  },
  "cells": [
    {
      "cell_type": "markdown",
      "metadata": {
        "id": "view-in-github",
        "colab_type": "text"
      },
      "source": [
        "<a href=\"https://colab.research.google.com/github/dharwai/histogram_of_image_dataset/blob/main/facial%20expression%20using%20affactenet%20dataseRESNET%20152t.ipynb\" target=\"_parent\"><img src=\"https://colab.research.google.com/assets/colab-badge.svg\" alt=\"Open In Colab\"/></a>"
      ]
    },
    {
      "cell_type": "markdown",
      "source": [],
      "metadata": {
        "id": "ER0uo5fA-Uzd"
      }
    },
    {
      "cell_type": "code",
      "execution_count": 1,
      "metadata": {
        "id": "Uh3Az5JaWF6U"
      },
      "outputs": [],
      "source": [
        "!mkdir -p ~/.kaggle\n",
        "!cp kaggle.json ~/.kaggle/"
      ]
    },
    {
      "cell_type": "code",
      "source": [
        "!kaggle datasets download -d mouadriali/affectnetsample"
      ],
      "metadata": {
        "colab": {
          "base_uri": "https://localhost:8080/"
        },
        "id": "Y5jS6IRF5VPw",
        "outputId": "f1025af6-244c-47a3-fd9c-4ca2a5858edc"
      },
      "execution_count": 2,
      "outputs": [
        {
          "output_type": "stream",
          "name": "stdout",
          "text": [
            "Warning: Your Kaggle API key is readable by other users on this system! To fix this, you can run 'chmod 600 /root/.kaggle/kaggle.json'\n",
            "Downloading affectnetsample.zip to /content\n",
            "100% 1.74G/1.75G [01:28<00:00, 21.7MB/s]\n",
            "100% 1.75G/1.75G [01:28<00:00, 21.1MB/s]\n"
          ]
        }
      ]
    },
    {
      "cell_type": "code",
      "source": [
        "import zipfile\n",
        "zip_ref = zipfile.ZipFile('/content/affectnetsample.zip', 'r')\n",
        "zip_ref.extractall('/content')\n",
        "zip_ref.close()"
      ],
      "metadata": {
        "id": "-dVGnuIp52Io"
      },
      "execution_count": 4,
      "outputs": []
    },
    {
      "cell_type": "code",
      "source": [
        "import tensorflow\n",
        "from keras.layers import Dense,Flatten\n",
        "from keras.applications.vgg16 import VGG16\n",
        "from tensorflow import keras\n",
        "from keras import Sequential\n",
        "from keras.layers import Dense,Conv2D,MaxPooling2D,Flatten,BatchNormalization,Dropout\n",
        "from tensorflow.keras.optimizers import Adam,SGD,RMSprop\n",
        "from tensorflow.keras.layers import Dense,Input,Dropout,GlobalAveragePooling2D,Flatten,Conv2D,BatchNormalization,Activation,MaxPooling2D\n",
        "\n",
        "import matplotlib.pyplot as plt\n",
        "import numpy as np\n",
        "import pandas as pd\n",
        "import seaborn as sns\n",
        "import os\n",
        "import tensorflow as tf\n",
        "# Importing Deep Learning Libraries\n",
        "\n",
        "from tensorflow.keras.preprocessing.image import load_img, img_to_array\n",
        "from tensorflow.keras.preprocessing.image import ImageDataGenerator\n",
        "from tensorflow.keras.layers import Dense,Input,Dropout,GlobalAveragePooling2D,Flatten,Conv2D,BatchNormalization,Activation,MaxPooling2D\n",
        "from tensorflow.keras.models import Model,Sequential\n",
        "from tensorflow.keras.optimizers import Adam,SGD,RMSprop\n",
        "from tensorflow.keras.utils import plot_model\n",
        "from keras import regularizers\n",
        "from tensorflow.keras.utils import plot_model\n",
        "from keras.preprocessing import image"
      ],
      "metadata": {
        "id": "e6gXltET52d-"
      },
      "execution_count": 5,
      "outputs": []
    },
    {
      "cell_type": "code",
      "source": [
        "batch_size  = 128\n",
        "datagen_train  = ImageDataGenerator()\n",
        "datagen_val = ImageDataGenerator()\n",
        "\n",
        "train_ds = datagen_train.flow_from_directory(\"/content/train_class\",\n",
        "                                               target_size = (224,224),\n",
        "                                               color_mode = \"rgb\",\n",
        "                                               batch_size=batch_size,\n",
        "                                               class_mode='categorical',\n",
        "                                               shuffle=True)\n",
        "\n",
        "\n",
        "test_ds = datagen_val.flow_from_directory(\"/content/val_class\",\n",
        "                                               target_size = (224,224),\n",
        "                                               color_mode = \"rgb\",\n",
        "                                               batch_size=batch_size,\n",
        "                                               class_mode='categorical',\n",
        "                                               shuffle=False)\n",
        "print('Train and Validation sets have been created.')\n"
      ],
      "metadata": {
        "colab": {
          "base_uri": "https://localhost:8080/"
        },
        "id": "sbD0rZ4852gg",
        "outputId": "50f9fab9-e87c-4158-b1ff-d8dd448786e3"
      },
      "execution_count": 6,
      "outputs": [
        {
          "output_type": "stream",
          "name": "stdout",
          "text": [
            "Found 37553 images belonging to 8 classes.\n",
            "Found 4000 images belonging to 8 classes.\n",
            "Train and Validation sets have been created.\n"
          ]
        }
      ]
    },
    {
      "cell_type": "code",
      "source": [
        "\n",
        "# Rescale train data.\n",
        "datagen_train = ImageDataGenerator(rescale = 1./255,\n",
        "                                  )\n",
        "\n",
        "# Rescale validation data.\n",
        "datagen_val = ImageDataGenerator(rescale = 1./255,\n",
        "                                 )\n",
        "\n",
        "print('Above data generator functions have been created.')"
      ],
      "metadata": {
        "colab": {
          "base_uri": "https://localhost:8080/"
        },
        "id": "EKLh286u6A7E",
        "outputId": "e05e7e19-0ecd-4a0b-9a43-c3816c79a149"
      },
      "execution_count": 7,
      "outputs": [
        {
          "output_type": "stream",
          "name": "stdout",
          "text": [
            "Above data generator functions have been created.\n"
          ]
        }
      ]
    },
    {
      "cell_type": "code",
      "source": [
        "from keras.applications.resnet import ResNet152\n",
        "conv_base = ResNet152(\n",
        "    weights='imagenet',\n",
        "    include_top = False,\n",
        "    input_shape=(224,224,3)\n",
        ")"
      ],
      "metadata": {
        "id": "SJV1eOzt-oyi",
        "outputId": "a63c0d70-cfad-48c0-cb29-b8c9b887feb8",
        "colab": {
          "base_uri": "https://localhost:8080/"
        }
      },
      "execution_count": 8,
      "outputs": [
        {
          "output_type": "stream",
          "name": "stdout",
          "text": [
            "Downloading data from https://storage.googleapis.com/tensorflow/keras-applications/resnet/resnet152_weights_tf_dim_ordering_tf_kernels_notop.h5\n",
            "234698864/234698864 [==============================] - 11s 0us/step\n"
          ]
        }
      ]
    },
    {
      "cell_type": "code",
      "source": [
        "model = Sequential()\n",
        "\n",
        "model.add(conv_base)\n",
        "model.add(Flatten())\n",
        "model.add(Dense(256,activation = 'relu'))\n",
        "model.add(BatchNormalization())\n",
        "model.add(Dropout(0.30))\n",
        "# Second fully connected layer  \n",
        "model.add(Dense(512,activation = 'relu'))\n",
        "model.add(BatchNormalization())\n",
        "model.add(Dropout(0.30))\n",
        "\n",
        "model.add(Dense(8, activation='softmax'))"
      ],
      "metadata": {
        "id": "QyaBWKiC-o08"
      },
      "execution_count": 13,
      "outputs": []
    },
    {
      "cell_type": "code",
      "source": [
        "conv_base.trainable = False"
      ],
      "metadata": {
        "id": "w5vpnBCU-xq8"
      },
      "execution_count": 14,
      "outputs": []
    },
    {
      "cell_type": "code",
      "source": [
        "model.compile(optimizer = Adam(learning_rate=0.001), loss='categorical_crossentropy', metrics=['accuracy'])\n",
        "\n",
        "print('CNN model has been created you can proceed to train you data with this model.')"
      ],
      "metadata": {
        "id": "Ta-rbHx2-xtl",
        "outputId": "e7f7d92a-cd03-4061-efa4-508b922d0ddc",
        "colab": {
          "base_uri": "https://localhost:8080/"
        }
      },
      "execution_count": 15,
      "outputs": [
        {
          "output_type": "stream",
          "name": "stdout",
          "text": [
            "CNN model has been created you can proceed to train you data with this model.\n"
          ]
        }
      ]
    },
    {
      "cell_type": "code",
      "source": [
        "epochs = 10\n",
        "\n",
        "history = model.fit_generator(generator=train_ds,\n",
        "                                steps_per_epoch=train_ds.n//train_ds.batch_size,\n",
        "                                epochs=epochs,\n",
        "                                validation_data = test_ds,\n",
        "                                validation_steps = test_ds.n//test_ds.batch_size,\n",
        "                                \n",
        "                                )\n",
        "print('Your model has been trained!!')"
      ],
      "metadata": {
        "id": "VeQAqJlA-xv_",
        "outputId": "1453794e-100c-4e02-a955-e725e0f9680c",
        "colab": {
          "base_uri": "https://localhost:8080/"
        }
      },
      "execution_count": null,
      "outputs": [
        {
          "output_type": "stream",
          "name": "stderr",
          "text": [
            "<ipython-input-16-c1f544d00a73>:3: UserWarning: `Model.fit_generator` is deprecated and will be removed in a future version. Please use `Model.fit`, which supports generators.\n",
            "  history = model.fit_generator(generator=train_ds,\n"
          ]
        },
        {
          "output_type": "stream",
          "name": "stdout",
          "text": [
            "Epoch 1/10\n",
            "293/293 [==============================] - 369s 1s/step - loss: 1.9599 - accuracy: 0.3171 - val_loss: 1.6599 - val_accuracy: 0.3967\n",
            "Epoch 2/10\n",
            "293/293 [==============================] - 354s 1s/step - loss: 1.4505 - accuracy: 0.4633 - val_loss: 1.6088 - val_accuracy: 0.4297\n",
            "Epoch 3/10\n",
            "293/293 [==============================] - 356s 1s/step - loss: 1.1761 - accuracy: 0.5721 - val_loss: 1.7002 - val_accuracy: 0.4083\n",
            "Epoch 4/10\n",
            "293/293 [==============================] - 353s 1s/step - loss: 0.9235 - accuracy: 0.6677 - val_loss: 1.7939 - val_accuracy: 0.4214\n",
            "Epoch 5/10\n",
            "293/293 [==============================] - ETA: 0s - loss: 0.7169 - accuracy: 0.7452"
          ]
        }
      ]
    },
    {
      "cell_type": "code",
      "source": [],
      "metadata": {
        "id": "fLm836IO-xyD"
      },
      "execution_count": null,
      "outputs": []
    },
    {
      "cell_type": "code",
      "source": [],
      "metadata": {
        "id": "eXWuZZh86A9M"
      },
      "execution_count": null,
      "outputs": []
    },
    {
      "cell_type": "code",
      "source": [],
      "metadata": {
        "colab": {
          "base_uri": "https://localhost:8080/"
        },
        "id": "sH7f_fzQ6A_L",
        "outputId": "89b66fbb-0b9c-444f-830a-1de38627ebf4"
      },
      "execution_count": null,
      "outputs": [
        {
          "output_type": "stream",
          "name": "stdout",
          "text": [
            "CNN model has been created you can proceed to train you data with this model.\n"
          ]
        }
      ]
    },
    {
      "cell_type": "code",
      "source": [],
      "metadata": {
        "colab": {
          "base_uri": "https://localhost:8080/"
        },
        "id": "bdYzp2DI6BBV",
        "outputId": "47f20548-2993-4fe7-e4a0-ff9c5d9a800d"
      },
      "execution_count": null,
      "outputs": [
        {
          "output_type": "stream",
          "name": "stderr",
          "text": [
            "<ipython-input-37-943bdb1575cf>:3: UserWarning: `Model.fit_generator` is deprecated and will be removed in a future version. Please use `Model.fit`, which supports generators.\n",
            "  history = model.fit_generator(generator=train_ds,\n"
          ]
        },
        {
          "output_type": "stream",
          "name": "stdout",
          "text": [
            "Epoch 1/10\n",
            "123/293 [===========>..................] - ETA: 3:18 - loss: 2.5063 - accuracy: 0.1521"
          ]
        }
      ]
    },
    {
      "cell_type": "code",
      "source": [],
      "metadata": {
        "id": "rlZc0VWh52iy"
      },
      "execution_count": null,
      "outputs": []
    },
    {
      "cell_type": "code",
      "source": [],
      "metadata": {
        "id": "urHFkJUk52k6"
      },
      "execution_count": null,
      "outputs": []
    },
    {
      "cell_type": "code",
      "source": [],
      "metadata": {
        "id": "KNY-fQ9L52nP"
      },
      "execution_count": null,
      "outputs": []
    },
    {
      "cell_type": "code",
      "source": [],
      "metadata": {
        "id": "Rw7C3aWLXR4m"
      },
      "execution_count": null,
      "outputs": []
    },
    {
      "cell_type": "code",
      "source": [],
      "metadata": {
        "id": "ZKphqHnt5XBO"
      },
      "execution_count": null,
      "outputs": []
    },
    {
      "cell_type": "code",
      "source": [],
      "metadata": {
        "id": "n7C2xBny5XDg"
      },
      "execution_count": null,
      "outputs": []
    },
    {
      "cell_type": "code",
      "source": [],
      "metadata": {
        "id": "_evyFo6b5XFs"
      },
      "execution_count": null,
      "outputs": []
    },
    {
      "cell_type": "code",
      "source": [],
      "metadata": {
        "id": "qHaHs9655XIK"
      },
      "execution_count": null,
      "outputs": []
    }
  ]
}