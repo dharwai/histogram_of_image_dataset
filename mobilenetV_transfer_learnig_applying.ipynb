{
  "cells": [
    {
      "cell_type": "markdown",
      "metadata": {
        "id": "view-in-github",
        "colab_type": "text"
      },
      "source": [
        "<a href=\"https://colab.research.google.com/github/dharwai/histogram_of_image_dataset/blob/main/mobilenetV_transfer_learnig_applying.ipynb\" target=\"_parent\"><img src=\"https://colab.research.google.com/assets/colab-badge.svg\" alt=\"Open In Colab\"/></a>"
      ]
    },
    {
      "cell_type": "code",
      "execution_count": 59,
      "metadata": {
        "id": "14RY0etdxEg_"
      },
      "outputs": [],
      "source": [
        "!mkdir -p ~/.kaggle\n",
        "!cp kaggle.json ~/.kaggle/"
      ]
    },
    {
      "cell_type": "code",
      "execution_count": 60,
      "metadata": {
        "colab": {
          "base_uri": "https://localhost:8080/"
        },
        "id": "igKaro_Mxflj",
        "outputId": "3eea073a-c4e3-48e5-a155-52b9b5c2b593"
      },
      "outputs": [
        {
          "output_type": "stream",
          "name": "stdout",
          "text": [
            "Warning: Your Kaggle API key is readable by other users on this system! To fix this, you can run 'chmod 600 /root/.kaggle/kaggle.json'\n",
            "fer2013.zip: Skipping, found more recently modified local copy (use --force to force download)\n"
          ]
        }
      ],
      "source": [
        "!kaggle datasets download -d msambare/fer2013"
      ]
    },
    {
      "cell_type": "code",
      "execution_count": 61,
      "metadata": {
        "id": "p7XcHSEexfoC"
      },
      "outputs": [],
      "source": [
        "import zipfile\n",
        "zip_ref = zipfile.ZipFile('/content/fer2013.zip', 'r')\n",
        "zip_ref.extractall('/content')\n",
        "zip_ref.close()"
      ]
    },
    {
      "cell_type": "code",
      "execution_count": 62,
      "metadata": {
        "id": "lgGvamKtxfqi"
      },
      "outputs": [],
      "source": [
        "import tensorflow\n",
        "from keras.layers import Dense,Flatten\n",
        "from keras.applications.vgg16 import VGG16\n",
        "from tensorflow import keras\n",
        "from keras import Sequential\n",
        "from keras.layers import Dense,Conv2D,MaxPooling2D,Flatten,BatchNormalization,Dropout\n",
        "from tensorflow.keras.optimizers import Adam,SGD,RMSprop\n",
        "from tensorflow.keras.layers import Dense,Input,Dropout,GlobalAveragePooling2D,Flatten,Conv2D,BatchNormalization,Activation,MaxPooling2D\n",
        "\n",
        "import matplotlib.pyplot as plt\n",
        "import numpy as np\n",
        "import pandas as pd\n",
        "import seaborn as sns\n",
        "import os\n",
        "import tensorflow as tf\n",
        "# Importing Deep Learning Libraries\n",
        "\n",
        "from tensorflow.keras.preprocessing.image import load_img, img_to_array\n",
        "from tensorflow.keras.preprocessing.image import ImageDataGenerator\n",
        "from tensorflow.keras.layers import Dense,Input,Dropout,GlobalAveragePooling2D,Flatten,Conv2D,BatchNormalization,Activation,MaxPooling2D\n",
        "from tensorflow.keras.models import Model,Sequential\n",
        "from tensorflow.keras.optimizers import Adam,SGD,RMSprop\n",
        "from tensorflow.keras.utils import plot_model\n",
        "from keras import regularizers\n",
        "from tensorflow.keras.utils import plot_model\n",
        "from keras.preprocessing import image"
      ]
    },
    {
      "cell_type": "code",
      "execution_count": 63,
      "metadata": {
        "colab": {
          "base_uri": "https://localhost:8080/"
        },
        "id": "uNnq654kxfsz",
        "outputId": "5affedd6-10ef-4953-fa00-ff7b965b78b1"
      },
      "outputs": [
        {
          "output_type": "stream",
          "name": "stdout",
          "text": [
            "Found 28709 images belonging to 7 classes.\n",
            "Found 7178 images belonging to 7 classes.\n",
            "Train and Validation sets have been created.\n"
          ]
        }
      ],
      "source": [
        "\n",
        "\n",
        "\n",
        "# Perform data augmentation.\n",
        "\n",
        "#Data augmentation is a technique to artificially create new training data from existing training data. \n",
        "#It helps us to increase the size of the dataset and introduce variability in the dataset.\n",
        "\n",
        "batch_size  = 32\n",
        "datagen_train  = ImageDataGenerator()\n",
        "datagen_val = ImageDataGenerator()\n",
        "\n",
        "train_ds = datagen_train.flow_from_directory(\"/content/train\",\n",
        "                                               target_size = (224,224),\n",
        "                                               color_mode = \"rgb\",\n",
        "                                               batch_size=batch_size,\n",
        "                                               class_mode='categorical',\n",
        "                                               shuffle=True)\n",
        "\n",
        "\n",
        "test_ds = datagen_val.flow_from_directory(\"/content/test\",\n",
        "                                               target_size = (224,224),\n",
        "                                               color_mode = \"rgb\",\n",
        "                                               batch_size=batch_size,\n",
        "                                               class_mode='categorical',\n",
        "                                               shuffle=False)\n",
        "print('Train and Validation sets have been created.')\n",
        "\n"
      ]
    },
    {
      "cell_type": "code",
      "execution_count": 64,
      "metadata": {
        "colab": {
          "base_uri": "https://localhost:8080/"
        },
        "id": "RnUHkJKJxfvM",
        "outputId": "f02d1a0f-599a-4565-d31a-8f81646b4169"
      },
      "outputs": [
        {
          "output_type": "stream",
          "name": "stdout",
          "text": [
            "Above data generator functions have been created.\n"
          ]
        }
      ],
      "source": [
        "# Rescale train data.\n",
        "datagen_train = ImageDataGenerator(rescale = 1./255,\n",
        "                                  )\n",
        "\n",
        "# Rescale validation data.\n",
        "datagen_val = ImageDataGenerator(rescale = 1./255,\n",
        "                                 )\n",
        "\n",
        "print('Above data generator functions have been created.')\n"
      ]
    },
    {
      "cell_type": "code",
      "source": [
        "from keras.applications.mobilenet_v2 import MobileNetV2"
      ],
      "metadata": {
        "id": "oZguTcG6PoRg"
      },
      "execution_count": 65,
      "outputs": []
    },
    {
      "cell_type": "code",
      "source": [
        "conv_base = tf.keras.applications.MobileNetV2()"
      ],
      "metadata": {
        "id": "RRJlOqd9PoVl"
      },
      "execution_count": 66,
      "outputs": []
    },
    {
      "cell_type": "code",
      "source": [
        "# conv_base"
      ],
      "metadata": {
        "id": "2pD5A5tHPrTq"
      },
      "execution_count": 67,
      "outputs": []
    },
    {
      "cell_type": "code",
      "source": [
        " from keras.applications.mobilenet_v2 import MobileNetV2\n",
        " conv_base = MobileNetV2(\n",
        "     include_top = False,\n",
        "     input_shape=(224,224,3)\n",
        " )"
      ],
      "metadata": {
        "id": "YPHxVbHhP_FY"
      },
      "execution_count": 68,
      "outputs": []
    },
    {
      "cell_type": "code",
      "source": [
        "# conv_base.summary()"
      ],
      "metadata": {
        "id": "CebXZuUDP_Hc"
      },
      "execution_count": 69,
      "outputs": []
    },
    {
      "cell_type": "code",
      "source": [
        "model = Sequential()\n",
        "\n",
        "model.add(conv_base)\n",
        "model.add(Flatten())\n",
        "model.add(Dense(128,activation = 'relu'))\n",
        "model.add(BatchNormalization())\n",
        "model.add(Dropout(0.30))\n",
        "# Second fully connected layer  \n",
        "model.add(Dense(64,activation = 'relu'))\n",
        "model.add(BatchNormalization())\n",
        "model.add(Dropout(0.30))\n",
        "\n",
        "model.add(Dense(7, activation='softmax'))\n",
        "\n"
      ],
      "metadata": {
        "id": "1k6d0R2DP_Jo"
      },
      "execution_count": 70,
      "outputs": []
    },
    {
      "cell_type": "code",
      "source": [
        "model.summary()"
      ],
      "metadata": {
        "colab": {
          "base_uri": "https://localhost:8080/"
        },
        "id": "zLBcd6xDTKe3",
        "outputId": "8500a2cd-32c0-4aa9-c127-d077dc95e879"
      },
      "execution_count": 71,
      "outputs": [
        {
          "output_type": "stream",
          "name": "stdout",
          "text": [
            "Model: \"sequential_2\"\n",
            "_________________________________________________________________\n",
            " Layer (type)                Output Shape              Param #   \n",
            "=================================================================\n",
            " mobilenetv2_1.00_224 (Funct  (None, 7, 7, 1280)       2257984   \n",
            " ional)                                                          \n",
            "                                                                 \n",
            " flatten_2 (Flatten)         (None, 62720)             0         \n",
            "                                                                 \n",
            " dense_6 (Dense)             (None, 128)               8028288   \n",
            "                                                                 \n",
            " batch_normalization_4 (Batc  (None, 128)              512       \n",
            " hNormalization)                                                 \n",
            "                                                                 \n",
            " dropout_4 (Dropout)         (None, 128)               0         \n",
            "                                                                 \n",
            " dense_7 (Dense)             (None, 64)                8256      \n",
            "                                                                 \n",
            " batch_normalization_5 (Batc  (None, 64)               256       \n",
            " hNormalization)                                                 \n",
            "                                                                 \n",
            " dropout_5 (Dropout)         (None, 64)                0         \n",
            "                                                                 \n",
            " dense_8 (Dense)             (None, 7)                 455       \n",
            "                                                                 \n",
            "=================================================================\n",
            "Total params: 10,295,751\n",
            "Trainable params: 10,261,255\n",
            "Non-trainable params: 34,496\n",
            "_________________________________________________________________\n"
          ]
        }
      ]
    },
    {
      "cell_type": "code",
      "source": [
        "model.compile(optimizer = Adam(learning_rate=0.001), loss='categorical_crossentropy', metrics=['accuracy'])\n",
        "\n",
        "print('CNN model has been created you can proceed to train you data with this model.')"
      ],
      "metadata": {
        "colab": {
          "base_uri": "https://localhost:8080/"
        },
        "id": "NS7aUVHyTKhI",
        "outputId": "9ad23e0b-0d41-4919-b7fd-37e39427cd51"
      },
      "execution_count": 72,
      "outputs": [
        {
          "output_type": "stream",
          "name": "stdout",
          "text": [
            "CNN model has been created you can proceed to train you data with this model.\n"
          ]
        }
      ]
    },
    {
      "cell_type": "code",
      "source": [
        "epochs = 25\n",
        "\n",
        "history = model.fit_generator(generator=train_ds,\n",
        "                                steps_per_epoch=train_ds.n//train_ds.batch_size,\n",
        "                                epochs=epochs,\n",
        "                                validation_data = test_ds,\n",
        "                                validation_steps = test_ds.n//test_ds.batch_size,\n",
        "                                \n",
        "                                )\n",
        "print('Your model has been trained!!')\n",
        "     "
      ],
      "metadata": {
        "colab": {
          "base_uri": "https://localhost:8080/"
        },
        "id": "IfgvKy9mT1gZ",
        "outputId": "3d804e22-5b89-4ae9-ae52-b73be82303df"
      },
      "execution_count": null,
      "outputs": [
        {
          "output_type": "stream",
          "name": "stdout",
          "text": [
            "Epoch 1/25\n"
          ]
        },
        {
          "output_type": "stream",
          "name": "stderr",
          "text": [
            "<ipython-input-73-4efb0909d83e>:3: UserWarning: `Model.fit_generator` is deprecated and will be removed in a future version. Please use `Model.fit`, which supports generators.\n",
            "  history = model.fit_generator(generator=train_ds,\n"
          ]
        },
        {
          "output_type": "stream",
          "name": "stdout",
          "text": [
            "897/897 [==============================] - 213s 231ms/step - loss: 1.4964 - accuracy: 0.4469 - val_loss: 3.6600 - val_accuracy: 0.2963\n",
            "Epoch 2/25\n",
            "897/897 [==============================] - 206s 230ms/step - loss: 1.1463 - accuracy: 0.5763 - val_loss: 1.7422 - val_accuracy: 0.4623\n",
            "Epoch 3/25\n",
            "897/897 [==============================] - 205s 229ms/step - loss: 1.0662 - accuracy: 0.6083 - val_loss: 1.3486 - val_accuracy: 0.5247\n",
            "Epoch 4/25\n",
            "897/897 [==============================] - 205s 228ms/step - loss: 1.0509 - accuracy: 0.6140 - val_loss: 1.7475 - val_accuracy: 0.3408\n",
            "Epoch 5/25\n",
            "897/897 [==============================] - 206s 229ms/step - loss: 0.9803 - accuracy: 0.6445 - val_loss: 1.7997 - val_accuracy: 0.3927\n",
            "Epoch 6/25\n",
            "897/897 [==============================] - 207s 230ms/step - loss: 0.9359 - accuracy: 0.6573 - val_loss: 1.7821 - val_accuracy: 0.4496\n",
            "Epoch 7/25\n",
            "897/897 [==============================] - 206s 230ms/step - loss: 0.9008 - accuracy: 0.6724 - val_loss: 1.7283 - val_accuracy: 0.4420\n",
            "Epoch 8/25\n",
            "897/897 [==============================] - 206s 230ms/step - loss: 0.8552 - accuracy: 0.6915 - val_loss: 1.3122 - val_accuracy: 0.5582\n",
            "Epoch 9/25\n",
            "897/897 [==============================] - 207s 230ms/step - loss: 0.8116 - accuracy: 0.7112 - val_loss: 1.5399 - val_accuracy: 0.4559\n",
            "Epoch 10/25\n",
            "897/897 [==============================] - 205s 229ms/step - loss: 0.7634 - accuracy: 0.7258 - val_loss: 1.2499 - val_accuracy: 0.5725\n",
            "Epoch 11/25\n",
            "897/897 [==============================] - 206s 230ms/step - loss: 0.7095 - accuracy: 0.7455 - val_loss: 1.5092 - val_accuracy: 0.5275\n",
            "Epoch 12/25\n",
            "897/897 [==============================] - 206s 230ms/step - loss: 0.6604 - accuracy: 0.7652 - val_loss: 1.6753 - val_accuracy: 0.5015\n",
            "Epoch 13/25\n",
            "897/897 [==============================] - 207s 231ms/step - loss: 0.6070 - accuracy: 0.7855 - val_loss: 1.4501 - val_accuracy: 0.5499\n",
            "Epoch 14/25\n",
            "897/897 [==============================] - 206s 229ms/step - loss: 0.5563 - accuracy: 0.8043 - val_loss: 1.3951 - val_accuracy: 0.5318\n",
            "Epoch 15/25\n",
            "897/897 [==============================] - 206s 229ms/step - loss: 0.5031 - accuracy: 0.8240 - val_loss: 1.4659 - val_accuracy: 0.5593\n",
            "Epoch 16/25\n",
            "897/897 [==============================] - 207s 230ms/step - loss: 0.4653 - accuracy: 0.8381 - val_loss: 1.2818 - val_accuracy: 0.5834\n",
            "Epoch 17/25\n",
            "897/897 [==============================] - 207s 230ms/step - loss: 0.4129 - accuracy: 0.8606 - val_loss: 1.5304 - val_accuracy: 0.5244\n",
            "Epoch 18/25\n",
            "897/897 [==============================] - 206s 229ms/step - loss: 0.3821 - accuracy: 0.8680 - val_loss: 1.5529 - val_accuracy: 0.5508\n",
            "Epoch 19/25\n",
            "897/897 [==============================] - 206s 229ms/step - loss: 0.3525 - accuracy: 0.8808 - val_loss: 1.5673 - val_accuracy: 0.5345\n",
            "Epoch 20/25\n",
            "897/897 [==============================] - 206s 229ms/step - loss: 0.3186 - accuracy: 0.8915 - val_loss: 1.5889 - val_accuracy: 0.5635\n",
            "Epoch 21/25\n",
            "582/897 [==================>...........] - ETA: 1:08 - loss: 0.2772 - accuracy: 0.9056"
          ]
        }
      ]
    },
    {
      "cell_type": "code",
      "source": [],
      "metadata": {
        "id": "ODDBiNgST1it"
      },
      "execution_count": null,
      "outputs": []
    },
    {
      "cell_type": "code",
      "source": [],
      "metadata": {
        "id": "3As2-JpvT1lE"
      },
      "execution_count": null,
      "outputs": []
    },
    {
      "cell_type": "code",
      "source": [],
      "metadata": {
        "id": "5jV-gWYNT1nI"
      },
      "execution_count": null,
      "outputs": []
    },
    {
      "cell_type": "code",
      "source": [],
      "metadata": {
        "id": "6W46H8NFT1pj"
      },
      "execution_count": null,
      "outputs": []
    },
    {
      "cell_type": "code",
      "source": [],
      "metadata": {
        "id": "pXSYijvRTKjn"
      },
      "execution_count": null,
      "outputs": []
    },
    {
      "cell_type": "code",
      "source": [],
      "metadata": {
        "id": "Kjy_WyGDTKl6"
      },
      "execution_count": null,
      "outputs": []
    },
    {
      "cell_type": "code",
      "source": [],
      "metadata": {
        "id": "wmo9iyT1TEPi"
      },
      "execution_count": null,
      "outputs": []
    },
    {
      "cell_type": "code",
      "source": [],
      "metadata": {
        "id": "9osWi8ORTERu"
      },
      "execution_count": null,
      "outputs": []
    },
    {
      "cell_type": "code",
      "source": [],
      "metadata": {
        "id": "eBuJeI-WTEUM"
      },
      "execution_count": null,
      "outputs": []
    },
    {
      "cell_type": "code",
      "execution_count": null,
      "metadata": {
        "id": "M4n47vtYP3tu"
      },
      "outputs": [],
      "source": [
        "# from keras.applications.mobilenet_v2 import MobileNetV2\n",
        "# conv_base = MobileNetV2(\n",
        "#     weights='imagenet',\n",
        "#     include_top = False,\n",
        "#     input_shape=(48,48,3)\n",
        "# )"
      ]
    },
    {
      "cell_type": "code",
      "source": [],
      "metadata": {
        "id": "sz8irP7SPrZK"
      },
      "execution_count": null,
      "outputs": []
    },
    {
      "cell_type": "code",
      "source": [],
      "metadata": {
        "id": "vpnEeXruPrbn"
      },
      "execution_count": null,
      "outputs": []
    },
    {
      "cell_type": "code",
      "source": [],
      "metadata": {
        "id": "dTUDD9A9Pre_"
      },
      "execution_count": null,
      "outputs": []
    },
    {
      "cell_type": "code",
      "execution_count": null,
      "metadata": {
        "id": "xFRg71Vzxfxz"
      },
      "outputs": [],
      "source": []
    },
    {
      "cell_type": "code",
      "execution_count": null,
      "metadata": {
        "id": "zEOQ0HTxPMM-"
      },
      "outputs": [],
      "source": []
    },
    {
      "cell_type": "code",
      "execution_count": null,
      "metadata": {
        "id": "CWtkBjcLxf0J"
      },
      "outputs": [],
      "source": []
    },
    {
      "cell_type": "code",
      "execution_count": null,
      "metadata": {
        "id": "eHJhpEg6xf2q"
      },
      "outputs": [],
      "source": [
        "model = Sequential()\n",
        "\n",
        "model.add(conv_base)\n",
        "model.add(Flatten())\n",
        "model.add(Dense(256,activation = 'relu'))\n",
        "model.add(BatchNormalization())\n",
        "model.add(Dropout(0.30))\n",
        "# Second fully connected layer  \n",
        "model.add(Dense(512,activation = 'relu'))\n",
        "model.add(BatchNormalization())\n",
        "model.add(Dropout(0.30))\n",
        "\n",
        "model.add(Dense(7, activation='softmax'))\n",
        "\n"
      ]
    },
    {
      "cell_type": "code",
      "execution_count": null,
      "metadata": {
        "id": "TpYGBwiZxf5S"
      },
      "outputs": [],
      "source": [
        "model.summary()"
      ]
    },
    {
      "cell_type": "code",
      "execution_count": null,
      "metadata": {
        "id": "tiL8Du-Jxf7h"
      },
      "outputs": [],
      "source": [
        "conv_base.trainable = False"
      ]
    },
    {
      "cell_type": "code",
      "execution_count": null,
      "metadata": {
        "id": "Pvl147VFxf9z"
      },
      "outputs": [],
      "source": [
        "model.compile(optimizer = Adam(learning_rate=0.001), loss='categorical_crossentropy', metrics=['accuracy'])\n",
        "\n",
        "print('CNN model has been created you can proceed to train you data with this model.')"
      ]
    },
    {
      "cell_type": "code",
      "execution_count": null,
      "metadata": {
        "id": "KykqaNv30nAE"
      },
      "outputs": [],
      "source": [
        "epochs = 100\n",
        "\n",
        "history = model.fit_generator(generator=train_ds,\n",
        "                                steps_per_epoch=train_ds.n//train_ds.batch_size,\n",
        "                                epochs=epochs,\n",
        "                                validation_data = test_ds,\n",
        "                                validation_steps = test_ds.n//test_ds.batch_size,\n",
        "                                \n",
        "                                )\n",
        "print('Your model has been trained!!')\n",
        "     "
      ]
    },
    {
      "cell_type": "code",
      "execution_count": null,
      "metadata": {
        "id": "8gE3RGII0nCa"
      },
      "outputs": [],
      "source": [
        "import matplotlib.pyplot as plt\n",
        "\n",
        "plt.plot(history.history['accuracy'],color='green',label='train')\n",
        "plt.plot(history.history['val_accuracy'],color='orange',label='validation')\n",
        "\n",
        "# plt.set_title('Training Accuracy vs Validation Accuracy')\n",
        "# plt.set_ylabel('Accuracy')\n",
        "# plt.set_xlabel('Epoch')\n",
        "\n",
        "\n",
        "plt.legend()\n",
        "plt.show()"
      ]
    },
    {
      "cell_type": "code",
      "execution_count": null,
      "metadata": {
        "id": "1XHXd1Tg0nEh"
      },
      "outputs": [],
      "source": [
        "plt.plot(history.history['loss'],color='red',label='train')\n",
        "plt.plot(history.history['val_loss'],color='blue',label='validation')\n",
        "plt.legend()\n",
        "plt.show()"
      ]
    },
    {
      "cell_type": "code",
      "execution_count": null,
      "metadata": {
        "id": "R2c6HFQf0nH6"
      },
      "outputs": [],
      "source": []
    }
  ],
  "metadata": {
    "accelerator": "GPU",
    "colab": {
      "provenance": [],
      "authorship_tag": "ABX9TyOeI/vULF39++9EiJuQPP4x",
      "include_colab_link": true
    },
    "gpuClass": "standard",
    "kernelspec": {
      "display_name": "Python 3",
      "name": "python3"
    },
    "language_info": {
      "name": "python"
    }
  },
  "nbformat": 4,
  "nbformat_minor": 0
}